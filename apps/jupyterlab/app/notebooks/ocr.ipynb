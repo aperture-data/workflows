{
 "cells": [
  {
   "cell_type": "markdown",
   "id": "d4269d99",
   "metadata": {},
   "source": [
    "# Text Extraction using OCR\n",
    "\n",
    "## Introduction\n",
    "\n",
    "In this notebook, we will demonstrate the results of using the `ocr-extraction` workflow.\n",
    "\n",
    "For more information, see [the documentation for this workflow](https://docs.aperturedata.io/workflows/ocr-extraction).\n",
    "\n",
    "## Setup\n",
    "\n",
    "This notebook assumes that you have already created the `ocr-extraction` workflow.\n",
    "You can do this conveniently in the Cloud UI.\n",
    "\n",
    "You will also need to have added some images to your workflow, For example, you could run the `dataset-ingestion` workflow with the Coco dataset."
   ]
  },
  {
   "cell_type": "code",
   "execution_count": null,
   "id": "0df772b2",
   "metadata": {},
   "outputs": [],
   "source": [
    "from aperturedb.CommonLibrary import create_connector, execute_query\n",
    "from aperturedb.NotebookHelpers import display as display_images\n",
    "from aperturedb.Images import Images"
   ]
  },
  {
   "cell_type": "markdown",
   "id": "23f29b90",
   "metadata": {},
   "source": [
    "## Set up client connection"
   ]
  },
  {
   "cell_type": "code",
   "execution_count": null,
   "id": "e593dcfd",
   "metadata": {},
   "outputs": [],
   "source": [
    "# This will only work if you have aperturedb installed and configured.\n",
    "# The configuration is either created by setting an APERTUREDB_KEY environment variable,\n",
    "# or by creating a configuration using adb config.\n",
    "# See https://docs.aperturedata.io/Setup/client/adb for more information.\n",
    "client = create_connector()\n",
    "\n",
    "# If you wish to explicitly use the Connector class, you can do so like this:\n",
    "# from aperturedb import Connector as Connector\n",
    "# client = Connector.Connector(host=\"<YOUR_HOST_NAME_HERE>\", user=\"<YOUR_USERNAME_HERE>\", password=\"<YOUR_PASSWORD_HERE>\")\n",
    "\n",
    "response, _ = client.query([{\"GetStatus\": {}}])\n",
    "print(response)"
   ]
  },
  {
   "cell_type": "markdown",
   "id": "6d199efa",
   "metadata": {},
   "source": [
    "## Find some extracted text\n",
    "\n",
    "Here we are going to look for extracted text that is associated with an image.\n",
    "First we find some extracted text.\n",
    "Them we find connected images.\n",
    "We fetch the blob for the image, scaled down."
   ]
  },
  {
   "cell_type": "code",
   "execution_count": null,
   "id": "78e0b5f1",
   "metadata": {},
   "outputs": [],
   "source": [
    "query = [\n",
    "    {\n",
    "        \"FindEntity\": {\n",
    "            \"with_class\": \"ExtractedText\",\n",
    "            \"results\": {\"all_properties\": True},\n",
    "            \"constraints\": {\"source_type\": [\"==\", \"image\"]},\n",
    "            \"limit\": 10,\n",
    "            \"_ref\": 1,\n",
    "        }\n",
    "    },\n",
    "    {\n",
    "        \"FindImage\": {\n",
    "            \"is_connected_to\": {\"ref\": 1},\n",
    "            \"blobs\": True,\n",
    "            \"results\": {\"list\": [\"_uniqueid\"]},\n",
    "            \"operations\": [\n",
    "                {\n",
    "                    \"type\": \"resize\",\n",
    "                    \"width\": 200,\n",
    "                }\n",
    "            ],\n",
    "            \"group_by_source\": True,\n",
    "        }\n",
    "    },\n",
    "]\n",
    "\n",
    "status, response, blobs = execute_query(client, query)\n",
    "assert status == 0, response"
   ]
  },
  {
   "cell_type": "code",
   "execution_count": null,
   "id": "b2d365aa",
   "metadata": {},
   "outputs": [],
   "source": [
    "text_blocks = response[0][\"FindEntity\"][\"entities\"]\n",
    "images_map = response[1][\"FindImage\"][\"entities\"]\n",
    "\n",
    "for text_block in text_blocks:\n",
    "    text = text_block[\"text\"]\n",
    "    text_id = text_block[\"_uniqueid\"]\n",
    "    image_index = images_map.get(text_id, {})[0].get(\"_blob_index\")\n",
    "    if image_index:\n",
    "        image_blob = blobs[image_index]\n",
    "        display_images([image_blob])\n",
    "        print(text)"
   ]
  },
  {
   "cell_type": "markdown",
   "id": "703ed927",
   "metadata": {},
   "source": [
    "## Extract from image PDF\n",
    "\n",
    "Now we're going to do the same thing but for image PDFs.\n",
    "An image PDF is one that has only images of text with no text layer."
   ]
  },
  {
   "cell_type": "code",
   "execution_count": null,
   "id": "e9867267",
   "metadata": {
    "vscode": {
     "languageId": "plaintext"
    }
   },
   "outputs": [],
   "source": [
    "query = [\n",
    "    {\n",
    "        \"FindEntity\": {\n",
    "            \"with_class\": \"ExtractedText\",\n",
    "            \"results\": {\"all_properties\": True},\n",
    "            \"constraints\": { \"source_type\": [\"==\", \"pdf\"] },\n",
    "            \"limit\": 10,\n",
    "            \"_ref\": 1,\n",
    "        }\n",
    "    },\n",
    "    {\n",
    "        \"FindBlob\": {\n",
    "            \"is_connected_to\": {\"ref\": 1},\n",
    "            \"blobs\": True,\n",
    "            \"results\": {\"list\": [\"_uniqueid\"]},\n",
    "            \"group_by_source\": True,\n",
    "        }\n",
    "    },\n",
    "]\n",
    "\n",
    "status, response, blobs = execute_query(client, query)\n",
    "assert status == 0, response"
   ]
  },
  {
   "cell_type": "code",
   "execution_count": null,
   "id": "00531a0c",
   "metadata": {
    "vscode": {
     "languageId": "plaintext"
    }
   },
   "outputs": [],
   "source": [
    "import base64\n",
    "from IPython.display import IFrame, display, HTML\n",
    "\n",
    "text_blocks = response[0][\"FindEntity\"][\"entities\"]\n",
    "images_map = response[1][\"FindBlob\"][\"entities\"]\n",
    "\n",
    "for i, text_block in enumerate(text_blocks, start=1):\n",
    "    text = text_block[\"text\"]\n",
    "    text = text.replace(\"\\n\", \" \")\n",
    "    text_id = text_block[\"_uniqueid\"]\n",
    "    image_index = images_map.get(text_id, {})[0].get(\"_blob_index\")\n",
    "    if image_index:\n",
    "        image_blob = blobs[image_index]\n",
    "        base64_pdf = base64.b64encode(image_blob).decode('utf-8')\n",
    "        pdf_display_html = f'<iframe src=\"data:application/pdf;base64,{base64_pdf}\" width=\"800\" height=\"600\"></iframe>'\n",
    "        display(HTML(pdf_display_html))\n",
    "\n",
    "        print(f\"{i}. {text}\")"
   ]
  }
 ],
 "metadata": {
  "kernelspec": {
   "display_name": "Python 3",
   "language": "python",
   "name": "python3"
  },
  "language_info": {
   "codemirror_mode": {
    "name": "ipython",
    "version": 3
   },
   "file_extension": ".py",
   "mimetype": "text/x-python",
   "name": "python",
   "nbconvert_exporter": "python",
   "pygments_lexer": "ipython3",
   "version": "3.10.12"
  }
 },
 "nbformat": 4,
 "nbformat_minor": 5
}
