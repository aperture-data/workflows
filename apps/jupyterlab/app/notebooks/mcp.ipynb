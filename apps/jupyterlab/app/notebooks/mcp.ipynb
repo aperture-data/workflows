{
 "cells": [
  {
   "cell_type": "markdown",
   "id": "d4269d99",
   "metadata": {},
   "source": [
    "# MCP Server\n",
    "\n",
    "## Introduction\n",
    "\n",
    "In this notebook, we will demonstrate the use of the MCP server workflow.\n",
    "This workflow runs a server that provides access to an ApertureDB instance via the Model Context Protocol (MCP).\n",
    "\n",
    "## Setup\n",
    "\n",
    "In order to run this notebook, you will need to be running the MCP server workflow.\n",
    "You can do this conveniently in the Cloud UI.\n",
    "You will also need to know the authorization bearer token for the MCP server.\n"
   ]
  },
  {
   "cell_type": "code",
   "execution_count": 27,
   "id": "0df772b2",
   "metadata": {},
   "outputs": [],
   "source": [
    "from fastmcp import Client\n",
    "from getpass import getpass\n",
    "import os\n",
    "import json"
   ]
  },
  {
   "cell_type": "markdown",
   "id": "98c9eba4",
   "metadata": {},
   "source": [
    "## Enter Authorization Bearer Token"
   ]
  },
  {
   "cell_type": "code",
   "execution_count": 8,
   "id": "bd0231a3",
   "metadata": {},
   "outputs": [],
   "source": [
    "TOKEN = getpass(\"authorization bearer token\")"
   ]
  },
  {
   "cell_type": "markdown",
   "id": "445def3e",
   "metadata": {},
   "source": [
    "## Set up the client\n",
    "\n",
    "The FastMCP library is commonly used to create MCP servers,\n",
    "but here we use the client feature."
   ]
  },
  {
   "cell_type": "code",
   "execution_count": null,
   "id": "471b7ae7",
   "metadata": {},
   "outputs": [],
   "source": [
    "URL = 'https://<DB_HOST>/mcp/'\n",
    "client = Client(URL, auth=TOKEN)"
   ]
  },
  {
   "cell_type": "markdown",
   "id": "1d265fb6",
   "metadata": {},
   "source": [
    "## Test the connection\n",
    "\n",
    "If everything is set up correctly, this will print `True`."
   ]
  },
  {
   "cell_type": "code",
   "execution_count": 23,
   "id": "72a8206c",
   "metadata": {},
   "outputs": [
    {
     "name": "stdout",
     "output_type": "stream",
     "text": [
      "True\n"
     ]
    }
   ],
   "source": [
    "async with client:\n",
    "    print(await client.ping())"
   ]
  },
  {
   "cell_type": "markdown",
   "id": "a8605104",
   "metadata": {},
   "source": [
    "## List tools\n",
    "\n",
    "Let's find out what tools the server has."
   ]
  },
  {
   "cell_type": "code",
   "execution_count": 29,
   "id": "315528ab",
   "metadata": {},
   "outputs": [
    {
     "name": "stdout",
     "output_type": "stream",
     "text": [
      "[Tool(name='find_similar_documents', description='Find documents that are similar to a given text string', inputSchema={'properties': {'query': {'description': 'The query text to find similar documents for', 'title': 'Query', 'type': 'string'}, 'k': {'default': 5, 'description': 'The maximum number of documents to return', 'title': 'K', 'type': 'integer'}}, 'required': ['query'], 'type': 'object'}, annotations=None)]\n"
     ]
    }
   ],
   "source": [
    "async with client:\n",
    "    tools = await client.list_tools()\n",
    "    print(tools)"
   ]
  },
  {
   "cell_type": "markdown",
   "id": "28903910",
   "metadata": {},
   "source": [
    "## Run a tool\n",
    "\n",
    "Here we run the `find_similar_documents` tool against the default descriptor set and print the result documents."
   ]
  },
  {
   "cell_type": "code",
   "execution_count": 35,
   "id": "3074d1a8",
   "metadata": {},
   "outputs": [
    {
     "name": "stdout",
     "output_type": "stream",
     "text": [
      "{\n",
      "  \"documents\": [\n",
      "    {\n",
      "      \"doc_id\": \"fa52ef5a-5ffb-419c-b7c5-17856351b0e9\",\n",
      "      \"url\": \"https://docs.aperturedata.io/HowToGuides/Advanced/Image%20Similarity%20Search#ingest-images-and-descriptors-into-aperturedb\",\n",
      "      \"text\": \"[{\\\"AddDescriptor\\\":{\\\"set\\\":\\\"coco_descriptors\\\",\\\"properties\\\":{//A unique identifier matches the descriptorwiththe image.\\\"yfcc_id\\\":6255196340},\\\"_ref\\\":1}},{\\\"AddImage\\\":{\\\"format\\\":\\\"jpg\\\",\\\"properties\\\":{\\\"id\\\":397133,\\\"coco_url\\\":\\\"http://images.cocodataset.org/val2017/000000397133.jpg\\\",\\\"date_captured\\\":{\\\"_date\\\":\\\"2013-11-14T17:02:52\\\"},\\\"yfcc_id\\\":6255196340},//Add a connection between the imageandthe descriptor added above.\\\"connect\\\":{\\\"class\\\":\\\"has_descriptor\\\",\\\"ref\\\":1}}}]\\n\\nNote:In practice, ingestion is generally more efficient in larger batches.Here's an example showing a similar operation using ApertureDB's python client library,\\nwhich provides utilities for efficient bulk loading.\\n\\nQuery for Similar Images​\\n\\nNow that the data is loaded, we can explore similar images. Suppose we have the following image along with its descriptor, and we want to find images in our dataset that are similar.\\n\\ndescriptor: ``[-15.469, -14.582, -12.185, -17.752, ...]``\\n\\nThe following query must be passed along with the descriptor for our source image. It finds the 4 closest descriptors in our descriptor set and retrieves their images using the connection we had introduced above (think graph traversal).\"\n",
      "    },\n",
      "    {\n",
      "      \"doc_id\": \"6b222aca-4cc3-4e05-917f-3910133fe73f\",\n",
      "      \"url\": \"https://docs.aperturedata.io/python_sdk/helpers/Stats\",\n",
      "      \"text\": \"Stats\"\n",
      "    },\n",
      "    {\n",
      "      \"doc_id\": \"3c5d2db1-72bb-4546-8809-6a485521ce75\",\n",
      "      \"url\": \"https://docs.aperturedata.io/python_sdk/data_loaders/csv_wrappers/EntityUpdateDataCSV#singleentityupdatedatacsv-objects\",\n",
      "      \"text\": \"Example CSV file::\\n\\nfilename,id,label,constraint_id,format,dataset_ver,updateif>_dataset_ver,gen_blobsha1_sha/home/user/file1.jpg,321423532,dog,321423532,jpg,2,2,/home/user/file2.jpg,42342522,cat,42342522,png,2,2,...\\n\\nExample usage:\\n\\ndata=ImageForceNewestDataCSV(\\\"/path/to/ImageData.csv\\\")loader=ParallelLoader(client)loader.ingest(data)\\n\\ninfoIn the above example, the constraint_id ensures that an Image with the specified\\nid would be only inserted if it does not already exist in the database.\"\n",
      "    },\n",
      "    {\n",
      "      \"doc_id\": \"a139cf89-fe7f-4de5-9b6e-3c7005d57e02\",\n",
      "      \"url\": \"https://docs.aperturedata.io/query_language/Reference/acl_commands/Authenticate#examples\",\n",
      "      \"text\": \"These values also are from an actual session, and yours will have the same format.\\n\\n[{\\\"Authenticate\\\":{\\\"status\\\":0,\\\"session_token\\\":\\\"adbs_Z2nOUCAE37tlfcPUdeNGE5wtMRZvFYUn6iv\\\",\\\"session_token_expires_in\\\":36000,\\\"refresh_token\\\":\\\"adbr_TxchBKOyerwLEbNnnhuoxtzSuC8ag0u9j5O\\\",\\\"refresh_token_expires_in\\\":360000}}]\"\n",
      "    },\n",
      "    {\n",
      "      \"doc_id\": \"b79b4873-0f39-4056-a029-06b16f8da959\",\n",
      "      \"url\": \"https://docs.aperturedata.io/HowToGuides/Advanced/tensorflow_training#embedding-projector\",\n",
      "      \"text\": \"- 0s 9ms/step1/1 [==============================] - 0s 9ms/step1/1 [==============================] - 0s 9ms/step1/1 [==============================] - 0s 10ms/step1/1 [==============================] - 0s 9ms/step1/1 [==============================] - 0s 10ms/step1/1 [==============================] - 0s 10ms/step1/1 [==============================] - 0s 9ms/step1/1 [==============================] - 0s 10ms/step1/1 [==============================] - 0s 9ms/step1/1 [==============================] - 0s 10ms/step1/1 [==============================] - 0s 10ms/step1/1 [==============================] - 0s 10ms/step1/1 [==============================] - 0s 10ms/step1/1 [==============================] - 0s 10ms/step1/1 [==============================] - 0s 9ms/step1/1 [==============================] - 0s 9ms/step1/1 [==============================] - 0s 10ms/step1/1 [==============================] - 0s 10ms/step1/1\"\n",
      "    }\n",
      "  ]\n",
      "}\n"
     ]
    }
   ],
   "source": [
    "text = \"Find documents similar to this text.\"\n",
    "async with client:\n",
    "    docs = await client.call_tool(\"find_similar_documents\", dict(query=text))\n",
    "    for doc in docs:\n",
    "        print(json.dumps(json.loads(doc.text), indent=2, ensure_ascii=False))\n"
   ]
  },
  {
   "cell_type": "code",
   "execution_count": null,
   "id": "688709f5",
   "metadata": {},
   "outputs": [],
   "source": []
  }
 ],
 "metadata": {
  "kernelspec": {
   "display_name": "Python 3",
   "language": "python",
   "name": "python3"
  },
  "language_info": {
   "codemirror_mode": {
    "name": "ipython",
    "version": 3
   },
   "file_extension": ".py",
   "mimetype": "text/x-python",
   "name": "python",
   "nbconvert_exporter": "python",
   "pygments_lexer": "ipython3",
   "version": "3.10.12"
  }
 },
 "nbformat": 4,
 "nbformat_minor": 5
}
