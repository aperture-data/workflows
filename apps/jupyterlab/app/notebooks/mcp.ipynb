{
 "cells": [
  {
   "cell_type": "markdown",
   "id": "d4269d99",
   "metadata": {},
   "source": [
    "# MCP Server\n",
    "\n",
    "## Introduction\n",
    "\n",
    "In this notebook, we will demonstrate the use of the MCP server workflow.\n",
    "This workflow runs a server that provides access to an ApertureDB instance via the Model Context Protocol (MCP).\n",
    "\n",
    "## Setup\n",
    "\n",
    "In order to run this notebook, you will need to be running the MCP server workflow.\n",
    "You can do this conveniently in the Cloud UI.\n",
    "You will also need to know the authorization bearer token for the MCP server.\n"
   ]
  },
  {
   "cell_type": "code",
   "execution_count": 1,
   "id": "0df772b2",
   "metadata": {},
   "outputs": [],
   "source": [
    "from fastmcp import Client\n",
    "from getpass import getpass\n",
    "import os\n",
    "import json"
   ]
  },
  {
   "cell_type": "markdown",
   "id": "98c9eba4",
   "metadata": {},
   "source": [
    "## Enter Authorization Bearer Token"
   ]
  },
  {
   "cell_type": "code",
   "execution_count": 2,
   "id": "bd0231a3",
   "metadata": {},
   "outputs": [],
   "source": [
    "TOKEN = getpass(\"authorization bearer token\")"
   ]
  },
  {
   "cell_type": "markdown",
   "id": "445def3e",
   "metadata": {},
   "source": [
    "## Set up the client\n",
    "\n",
    "The FastMCP library is commonly used to create MCP servers,\n",
    "but here we use the client feature."
   ]
  },
  {
   "cell_type": "code",
   "execution_count": null,
   "id": "471b7ae7",
   "metadata": {},
   "outputs": [],
   "source": [
    "URL = 'https://<DB_HOST>/mcp/'\n",
    "client = Client(URL, auth=TOKEN)"
   ]
  },
  {
   "cell_type": "markdown",
   "id": "1d265fb6",
   "metadata": {},
   "source": [
    "## Test the connection\n",
    "\n",
    "If everything is set up correctly, this will print `True`."
   ]
  },
  {
   "cell_type": "code",
   "execution_count": 4,
   "id": "72a8206c",
   "metadata": {},
   "outputs": [
    {
     "name": "stdout",
     "output_type": "stream",
     "text": [
      "True\n"
     ]
    }
   ],
   "source": [
    "async with client:\n",
    "    print(await client.ping())"
   ]
  },
  {
   "cell_type": "markdown",
   "id": "a8605104",
   "metadata": {},
   "source": [
    "## List tools\n",
    "\n",
    "Let's find out what tools the server has."
   ]
  },
  {
   "cell_type": "code",
   "execution_count": 12,
   "id": "315528ab",
   "metadata": {},
   "outputs": [
    {
     "name": "stdout",
     "output_type": "stream",
     "text": [
      "Tool: list_entity_classes - List all entity classes in the database.\n",
      "  Parameters: {\n",
      "  \"properties\": {},\n",
      "  \"type\": \"object\"\n",
      "}\n",
      "\n",
      "Tool: describe_entity_class - Describe an entity class in the database.\n",
      "  Parameters: {\n",
      "  \"properties\": {\n",
      "    \"class_name\": {\n",
      "      \"description\": \"The name of the entity class to describe\",\n",
      "      \"title\": \"Class Name\",\n",
      "      \"type\": \"string\"\n",
      "    }\n",
      "  },\n",
      "  \"required\": [\n",
      "    \"class_name\"\n",
      "  ],\n",
      "  \"type\": \"object\"\n",
      "}\n",
      "\n",
      "Tool: list_connection_classes - List all connection classes in the database.\n",
      "  Parameters: {\n",
      "  \"properties\": {},\n",
      "  \"type\": \"object\"\n",
      "}\n",
      "\n",
      "Tool: describe_connection_class - Describe an connection class in the database.\n",
      "  Parameters: {\n",
      "  \"properties\": {\n",
      "    \"class_name\": {\n",
      "      \"description\": \"The name of the connection class to describe\",\n",
      "      \"title\": \"Class Name\",\n",
      "      \"type\": \"string\"\n",
      "    }\n",
      "  },\n",
      "  \"required\": [\n",
      "    \"class_name\"\n",
      "  ],\n",
      "  \"type\": \"object\"\n",
      "}\n",
      "\n",
      "Tool: find_similar_documents - Find documents that are similar to a given text string\n",
      "  Parameters: {\n",
      "  \"properties\": {\n",
      "    \"query\": {\n",
      "      \"description\": \"The query text to find similar documents for\",\n",
      "      \"title\": \"Query\",\n",
      "      \"type\": \"string\"\n",
      "    },\n",
      "    \"k\": {\n",
      "      \"default\": 5,\n",
      "      \"description\": \"The maximum number of documents to return\",\n",
      "      \"title\": \"K\",\n",
      "      \"type\": \"integer\"\n",
      "    },\n",
      "    \"descriptor_set\": {\n",
      "      \"default\": \"crawl-to-rag7\",\n",
      "      \"description\": \"The descriptor set to use for finding similar images\",\n",
      "      \"title\": \"Descriptor Set\",\n",
      "      \"type\": \"string\"\n",
      "    }\n",
      "  },\n",
      "  \"required\": [\n",
      "    \"query\"\n",
      "  ],\n",
      "  \"type\": \"object\"\n",
      "}\n",
      "\n",
      "Tool: find_similar_images - Find documents that are similar to a given text string\n",
      "  Parameters: {\n",
      "  \"properties\": {\n",
      "    \"query\": {\n",
      "      \"description\": \"The query text to find similar images for\",\n",
      "      \"title\": \"Query\",\n",
      "      \"type\": \"string\"\n",
      "    },\n",
      "    \"k\": {\n",
      "      \"default\": 5,\n",
      "      \"description\": \"The maximum number of documents to return\",\n",
      "      \"title\": \"K\",\n",
      "      \"type\": \"integer\"\n",
      "    },\n",
      "    \"descriptor_set\": {\n",
      "      \"default\": \"crawl-to-rag7\",\n",
      "      \"description\": \"The descriptor set to use for finding similar images\",\n",
      "      \"title\": \"Descriptor Set\",\n",
      "      \"type\": \"string\"\n",
      "    }\n",
      "  },\n",
      "  \"required\": [\n",
      "    \"query\"\n",
      "  ],\n",
      "  \"type\": \"object\"\n",
      "}\n",
      "\n",
      "Tool: list_descriptor_sets - List all available descriptor sets\n",
      "  Parameters: {\n",
      "  \"properties\": {},\n",
      "  \"type\": \"object\"\n",
      "}\n",
      "\n"
     ]
    }
   ],
   "source": [
    "async with client:\n",
    "    tools = await client.list_tools()\n",
    "    for tool in tools:\n",
    "        print(f\"Tool: {tool.name} - {tool.description}\")\n",
    "        print(f\"  Parameters: {json.dumps(tool.inputSchema, indent=2, ensure_ascii=False)}\")\n",
    "        print()"
   ]
  },
  {
   "cell_type": "markdown",
   "id": "28903910",
   "metadata": {},
   "source": [
    "## Run a tool: Find Similar Documents\n",
    "\n",
    "Here we run the `find_similar_documents` tool against the default descriptor set and print the result documents."
   ]
  },
  {
   "cell_type": "code",
   "execution_count": null,
   "id": "3074d1a8",
   "metadata": {},
   "outputs": [],
   "source": [
    "text = \"Find documents similar to this text.\"\n",
    "async with client:\n",
    "    docs = await client.call_tool(\"find_similar_documents\", dict(query=text))\n",
    "    for doc in docs:\n",
    "        print(json.dumps(json.loads(doc.text), indent=2, ensure_ascii=False))\n"
   ]
  },
  {
   "cell_type": "markdown",
   "id": "8bb87665",
   "metadata": {},
   "source": [
    "## Run a tool: List Entity Classes\n",
    "\n",
    "What types of entity are there?"
   ]
  },
  {
   "cell_type": "code",
   "execution_count": null,
   "id": "c1fbdc3d",
   "metadata": {},
   "outputs": [],
   "source": [
    "async with client:\n",
    "    results = await client.call_tool(\"list_entity_classes\")\n",
    "    print(json.dumps(json.loads(results.content[0].text), indent=2, ensure_ascii=False))"
   ]
  },
  {
   "cell_type": "markdown",
   "id": "688709f5",
   "metadata": {},
   "source": [
    "## Run a tool: Count images\n",
    "\n",
    "How many images are there in the database? We can see the `matched` field here."
   ]
  },
  {
   "cell_type": "code",
   "execution_count": null,
   "id": "c8a33341",
   "metadata": {},
   "outputs": [],
   "source": [
    "entity_class = \"_Image\"\n",
    "async with client:\n",
    "    description = await client.call_tool('describe_entity_class',\n",
    "        dict(class_name=entity_class))\n",
    "    print(json.dumps(json.loads(description.content[0].text), indent=2, ensure_ascii=False))"
   ]
  },
  {
   "cell_type": "code",
   "execution_count": null,
   "id": "f865a18a",
   "metadata": {},
   "outputs": [],
   "source": []
  },
  {
   "cell_type": "code",
   "execution_count": null,
   "id": "9abee45f",
   "metadata": {},
   "outputs": [],
   "source": []
  }
 ],
 "metadata": {
  "kernelspec": {
   "display_name": "Python 3",
   "language": "python",
   "name": "python3"
  },
  "language_info": {
   "codemirror_mode": {
    "name": "ipython",
    "version": 3
   },
   "file_extension": ".py",
   "mimetype": "text/x-python",
   "name": "python",
   "nbconvert_exporter": "python",
   "pygments_lexer": "ipython3",
   "version": "3.10.12"
  }
 },
 "nbformat": 4,
 "nbformat_minor": 5
}
