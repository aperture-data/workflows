{
 "cells": [
  {
   "cell_type": "markdown",
   "id": "9743e501",
   "metadata": {},
   "source": [
    "# RAG Workflow Demonstration\n",
    "\n",
    "If you run the [Website Chatbot](https://docs.aperturedata.io/workflows/crawl_to_rag) workflow, you can use this notebook to test the results by sending in some natural language questions and seeing the results.\n",
    "\n",
    "## Import some modules we will need"
   ]
  },
  {
   "cell_type": "code",
   "execution_count": 2,
   "id": "9bb3406b",
   "metadata": {},
   "outputs": [],
   "source": [
    "import requests\n",
    "import json\n",
    "import IPython.display as display\n",
    "from ipywidgets import Textarea, Button, VBox, Checkbox, Output\n",
    "import os\n",
    "import getpass\n",
    "import time"
   ]
  },
  {
   "cell_type": "markdown",
   "id": "cf0b5dc8",
   "metadata": {},
   "source": [
    "## Work out how to contact the RAG workflow\n",
    "\n",
    "This assumes that you are running this notebook as a workflow on the same instance.\n",
    "You will be asked to enter the token that you set for your RAG endpoint."
   ]
  },
  {
   "cell_type": "code",
   "execution_count": null,
   "id": "9809189a",
   "metadata": {},
   "outputs": [],
   "source": [
    "API_URL = 'https://<DB_HOST>/rag'\n",
    "\n",
    "print(f\"Using API URL: {API_URL}\")\n",
    "\n",
    "# Input API_KEY from terminal as password\n",
    "API_KEY = getpass.getpass('Enter your API key: ')"
   ]
  },
  {
   "cell_type": "markdown",
   "id": "91f628c8",
   "metadata": {},
   "source": [
    "## Ensure the server is ready\n",
    "\n",
    "It may take a few minutes for the workflow to crawl the website, extract and segment the text, generate embeddings, and be ready to respond to queries.\n",
    "This step checks to see if the RAG service is ready and prints out the configuration."
   ]
  },
  {
   "cell_type": "code",
   "execution_count": 63,
   "id": "99837ea1",
   "metadata": {},
   "outputs": [
    {
     "name": "stdout",
     "output_type": "stream",
     "text": [
      "Waiting for server to become ready...\n",
      "Attempt 1: Checking server readiness at http://localhost:8000/rag/config\n",
      "Server is ready.\n",
      "Configuration: {\n",
      "  \"llm_provider\": \"cohere\",\n",
      "  \"llm_model\": \"command-r-plus\",\n",
      "  \"embedding_model\": \"openclip ViT-B-32 laion2b_s34b_b79k\",\n",
      "  \"input\": \"crawl-to-rag7\",\n",
      "  \"n_documents\": 4,\n",
      "  \"host\": \"workflow-test-i8ewnkjd.farm0000.cloud.aperturedata.io\",\n",
      "  \"count\": 766,\n",
      "  \"ready\": true\n",
      "}\n"
     ]
    }
   ],
   "source": [
    "def wait_until_ready(api_base: str, api_key: str, delay: float = 5.0, max_tries: int = 60):\n",
    "    print(\"Waiting for server to become ready...\")\n",
    "    tries = 0\n",
    "    headers = {\n",
    "        'Authorization': f'Bearer {api_key}',\n",
    "        'Content-Type': 'application/json'\n",
    "    }\n",
    "    while tries < max_tries:\n",
    "        try:\n",
    "            url = f\"{api_base}/config\"\n",
    "            print(f\"Attempt {tries+1}: Checking server readiness at {url}\")\n",
    "            r = requests.get(url, timeout=2, headers=headers)\n",
    "            if r.status_code == 200:\n",
    "                config = r.json()\n",
    "                if 'ready' not in config or config.get(\"ready\") == True:\n",
    "                    print(\"Server is ready.\")\n",
    "                    return config  # Optional: you can return the config for inspection\n",
    "                else:\n",
    "                    print(f\"Server reports not ready (try {tries+1})\")\n",
    "            else:\n",
    "                print(f\"Received status code {r.status_code}\")\n",
    "        except Exception as e:\n",
    "            print(f\"Error contacting server (try {tries+1}): {e}\")\n",
    "        tries += 1\n",
    "        time.sleep(delay)\n",
    "\n",
    "    raise RuntimeError(\"Server did not become ready in time.\")\n",
    "\n",
    "\n",
    "config = wait_until_ready(API_URL, API_KEY)\n",
    "print(\"Configuration:\", json.dumps(config, indent=2))"
   ]
  },
  {
   "cell_type": "markdown",
   "id": "16c02496",
   "metadata": {},
   "source": [
    "## Now ask questions\n",
    "\n",
    "This demonstration uses the non-streaming API, so it may take a few moments for the results to appear.\n",
    "This reflects the time it takes for the LLM to stop sending output."
   ]
  },
  {
   "cell_type": "code",
   "execution_count": null,
   "id": "02828f12",
   "metadata": {},
   "outputs": [
    {
     "data": {
      "application/vnd.jupyter.widget-view+json": {
       "model_id": "e2951cd206a348b499519dc936c37fa7",
       "version_major": 2,
       "version_minor": 0
      },
      "text/plain": [
       "VBox(children=(Textarea(value='', layout=Layout(height='100px', width='100%'), placeholder='Enter your questio…"
      ]
     },
     "metadata": {},
     "output_type": "display_data"
    }
   ],
   "source": [
    "summary_history = \"\"\n",
    "\n",
    "query_input = Textarea(placeholder=\"Enter your question here...\", layout={'width': '100%', 'height': '100px'})\n",
    "run_button = Button(description=\"Ask\", button_style='primary')\n",
    "output_area = Output()\n",
    "\n",
    "def render_markdown_result(query, answer, rewritten_query, documents, old_history, new_history):\n",
    "    doc_md = \"\"\n",
    "    for i, doc in enumerate(documents):\n",
    "        url = doc.get(\"url\", f\"Document {i+1}\")\n",
    "        text = doc.get(\"page_content\", \"\")[:1000]\n",
    "        doc_md += f\"<details><summary><b>{url}</b></summary>\\n\\n```\\n{text}\\n```\\n</details>\\n\\n\"\n",
    "    \n",
    "    return f\"\"\"\n",
    "## User Query\n",
    "{query}\n",
    "\n",
    "## Previous Summary\n",
    "{old_history}\n",
    "\n",
    "## Rewritten Query\n",
    "\n",
    "{rewritten_query}\n",
    "\n",
    "## Answer\n",
    "{answer}\n",
    "\n",
    "## Source Documents\n",
    "{doc_md}\n",
    "\n",
    "## Updated Summary\n",
    "{new_history}\n",
    "\"\"\"\n",
    "\n",
    "\n",
    "def on_button_click(_):\n",
    "    global summary_history\n",
    "    output_area.clear_output()\n",
    "    query = query_input.value.strip()\n",
    "\n",
    "    if not query:\n",
    "        with output_area:\n",
    "            print(\"Please enter a query.\")\n",
    "        return\n",
    "\n",
    "    payload = {\n",
    "        \"query\": query,\n",
    "        \"history\": summary_history\n",
    "    }\n",
    "\n",
    "    headers = {\n",
    "        'Authorization': f'Bearer {API_KEY}',\n",
    "        'Content-Type': 'application/json'\n",
    "    }\n",
    "\n",
    "\n",
    "    response = requests.post(f\"{API_URL}/ask\", json=payload, headers=headers)\n",
    "\n",
    "    if response.status_code != 200:\n",
    "        with output_area:\n",
    "            print(f\"Error: {response.status_code}\\n{response.text}\")\n",
    "        return\n",
    "\n",
    "    data = response.json()\n",
    "    old_history = summary_history\n",
    "    summary_history = data.get(\"history\", summary_history)\n",
    "\n",
    "    markdown_output = render_markdown_result(\n",
    "        query=query,\n",
    "        old_history=old_history or \"None\",\n",
    "        answer=data.get(\"answer\", \"—\"),\n",
    "        rewritten_query=data.get(\"rewritten_query\", \"—\"),\n",
    "        documents=data.get(\"documents\", []),\n",
    "        new_history=summary_history\n",
    "    )\n",
    "\n",
    "    with output_area:\n",
    "        display.display(display.Markdown(markdown_output))\n",
    "\n",
    "\n",
    "run_button.on_click(on_button_click)\n",
    "ui = VBox([query_input, run_button, output_area])\n",
    "display.display(ui)"
   ]
  },
  {
   "cell_type": "code",
   "execution_count": null,
   "id": "02fa0f9d",
   "metadata": {},
   "outputs": [],
   "source": []
  }
 ],
 "metadata": {
  "kernelspec": {
   "display_name": "Python 3",
   "language": "python",
   "name": "python3"
  },
  "language_info": {
   "codemirror_mode": {
    "name": "ipython",
    "version": 3
   },
   "file_extension": ".py",
   "mimetype": "text/x-python",
   "name": "python",
   "nbconvert_exporter": "python",
   "pygments_lexer": "ipython3",
   "version": "3.10.12"
  }
 },
 "nbformat": 4,
 "nbformat_minor": 5
}
