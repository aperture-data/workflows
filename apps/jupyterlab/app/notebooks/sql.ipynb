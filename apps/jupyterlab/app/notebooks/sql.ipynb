{
 "cells": [
  {
   "cell_type": "markdown",
   "id": "d4269d99",
   "metadata": {},
   "source": [
    "# SQL Server\n",
    "\n",
    "## Introduction\n",
    "\n",
    "In this notebook, we will demonstrate the use of the SQL server workflow.\n",
    "This workflow runs a server that provides access to an ApertureDB instance via queries in the SQL language, specifically the PostgreSQL dialect.\n",
    "\n",
    "For more information, see [the documentation for this workflow](https://docs.aperturedata.io/workflows/sql_server).\n",
    "\n",
    "## Setup\n",
    "\n",
    "In order to run this notebook, you will need to be running the SQL server workflow.\n",
    "You can do this conveniently in the Cloud UI.\n",
    "\n",
    "You will also need to have some data stored in your ApertureDB, perhaps from running the \"Website Chatbot\" or \"Dataset Ingestion\" workflows.\n",
    "\n",
    "You will also need to know the password for the SQL server.\n",
    "You can find that in the \"Connection Helper\" dialog in the Cloud UI."
   ]
  },
  {
   "cell_type": "code",
   "execution_count": null,
   "id": "0df772b2",
   "metadata": {},
   "outputs": [],
   "source": [
    "import psycopg\n",
    "from getpass import getpass\n",
    "import os\n",
    "import json\n",
    "import pandas as pd\n",
    "from aperturedb import NotebookHelpers as nh"
   ]
  },
  {
   "cell_type": "markdown",
   "id": "98c9eba4",
   "metadata": {},
   "source": [
    "## Enter Password"
   ]
  },
  {
   "cell_type": "code",
   "execution_count": null,
   "id": "bd0231a3",
   "metadata": {},
   "outputs": [],
   "source": [
    "password = getpass(\"password\")"
   ]
  },
  {
   "cell_type": "markdown",
   "id": "445def3e",
   "metadata": {},
   "source": [
    "## Set up the client connection\n",
    "\n",
    "We're using the `psycopg` PostgreSQL database adaptor. "
   ]
  },
  {
   "cell_type": "code",
   "execution_count": null,
   "id": "471b7ae7",
   "metadata": {},
   "outputs": [],
   "source": [
    "# If you are not runing this notebook in the ApertureDB Cloud, then you may need to set the host below.\n",
    "host = \"<DB_HOST>\"\n",
    "database = \"aperturedb\"\n",
    "user = \"aperturedb\"\n",
    "\n",
    "def run_query(query):\n",
    "    \"\"\"Run a query and return the results.\"\"\"\n",
    "    with psycopg.connect(\n",
    "            f\"dbname={database} user={user} password={password} host={host}\") as conn:\n",
    "        with conn.cursor() as cur:\n",
    "            cur.execute(query)\n",
    "            return pd.DataFrame(cur.fetchall(), columns=[desc[0] for desc in cur.description])"
   ]
  },
  {
   "cell_type": "markdown",
   "id": "1d265fb6",
   "metadata": {},
   "source": [
    "## Test the connection\n",
    "\n",
    "If everything is set up correctly, this will print something like:\n",
    "```\n",
    "   ping\n",
    "0\t1\n",
    "```"
   ]
  },
  {
   "cell_type": "code",
   "execution_count": null,
   "id": "72a8206c",
   "metadata": {},
   "outputs": [],
   "source": [
    "run_query(\"SELECT 1 AS ping\")"
   ]
  },
  {
   "cell_type": "markdown",
   "id": "a8605104",
   "metadata": {},
   "source": [
    "## List tables\n",
    "\n",
    "Let's find out what tables the SQL server has.\n",
    "\n",
    "Our tables are divided up into four schemata:\n",
    "* `system`: This schema contains a table for every system object type, including one for `Entity` and one for `Connection`. These correspond to the `Find...` commands in the ApertureDB Query Language.\n",
    "* `entity`: This schema contains a table for every user-defined entity class. These correspond to the values you can use with `with_class` in `FindEntity` commands.\n",
    "* `connection`: This schema contains a table for every user-defined connection class. These correspond to the values you can use with `with_class` in `FindConnection` commands or the `connection_class` field in the `is_connected_to` parameter.\n",
    "* `descriptor`: This schema contains a table for every descriptor set, effectively the values you can use with the `set` parameter in `FindDescriptor`.\n",
    "\n",
    "Note that it isn't necessary to give the schema explicitly when referring to a table, unless the table name is ambiguous, because all four schemata are on the search path.\n",
    "You will generally have to enclose table names in double quotes because their names are mixed case and can contain special characters, whereas unquoted identifiers in SQL are somewhat restricted."
   ]
  },
  {
   "cell_type": "code",
   "execution_count": null,
   "id": "315528ab",
   "metadata": {},
   "outputs": [],
   "source": [
    "def list_tables(schema):\n",
    "    return run_query(f\"\"\"\n",
    "        SELECT table_name\n",
    "        FROM information_schema.tables\n",
    "        WHERE table_schema = {schema!r}\n",
    "        ORDER BY table_name;\n",
    "        \"\"\")\n",
    "\n",
    "for schema in ['system', 'entity', 'connection', 'descriptor']:\n",
    "    tables = list_tables(schema)\n",
    "    print(f\"Tables in schema '{schema}' ({len(tables)} total):\")\n",
    "    display(tables)\n"
   ]
  },
  {
   "cell_type": "markdown",
   "id": "0ed05e8c",
   "metadata": {},
   "source": [
    "## Find some entities\n",
    "\n",
    "Two ways to find entities. We can use the `system.\"Entity\"` table to look at all entities, or a `entity.…` table to look at a specific entity type."
   ]
  },
  {
   "cell_type": "code",
   "execution_count": null,
   "id": "eaf4150f",
   "metadata": {},
   "outputs": [],
   "source": [
    "display(run_query(\"SELECT * FROM system.\\\"Entity\\\" LIMIT 5;\"))\n",
    "\n",
    "entity_class = list_tables('entity').table_name[0]\n",
    "print(f\"Using entity class: {entity_class}\")\n",
    "display(run_query(f\"SELECT * FROM entity.\\\"{entity_class}\\\" LIMIT 5;\"))"
   ]
  },
  {
   "cell_type": "markdown",
   "id": "28903910",
   "metadata": {},
   "source": [
    "## Find some connections\n",
    "\n",
    "We can do the same two types of query to find connections.\n",
    "In the language of relational databases, you might like to think of ApertureDB connections as \"join tables\" or [\"associative entities](https://en.wikipedia.org/wiki/Associative_entity)\"."
   ]
  },
  {
   "cell_type": "code",
   "execution_count": null,
   "id": "3074d1a8",
   "metadata": {},
   "outputs": [],
   "source": [
    "display(run_query(\"SELECT * FROM system.\\\"Connection\\\" LIMIT 5;\"))\n",
    "\n",
    "connection_class = list_tables('connection').table_name[0]\n",
    "print(f\"Using connection class: {connection_class}\")\n",
    "display(run_query(f\"SELECT * FROM connection.\\\"{connection_class}\\\" LIMIT 5;\"))"
   ]
  },
  {
   "cell_type": "markdown",
   "id": "a212538c",
   "metadata": {},
   "source": [
    "## Put it together: Graph query\n",
    "\n",
    "One of the features of ApertureDB is that it acts as a graph database.\n",
    "You can see this in SQL by joining tables together.\n"
   ]
  },
  {
   "cell_type": "code",
   "execution_count": null,
   "id": "a0b5fb91",
   "metadata": {},
   "outputs": [],
   "source": [
    "display(run_query(\"\"\"\n",
    "SELECT A.*, B.*, C.* FROM entity.\\\"CrawlRun\\\" AS A\n",
    "INNER JOIN connection.\\\"crawlRunHasDocument\\\" AS B ON A._uniqueid = B._src\n",
    "INNER JOIN entity.\\\"CrawlDocument\\\" AS C ON B._dst = C._uniqueid\n",
    "LIMIT 5;\n",
    "\"\"\"))"
   ]
  },
  {
   "cell_type": "markdown",
   "id": "12f90167",
   "metadata": {},
   "source": [
    "## Look under the covers\n",
    "\n",
    "So we know that these SQL queries are somehow being turned into ApertureDB Query Language queries under the covers.\n",
    "Is there any way to see the actual AQL queries?\n",
    "Yes, by using the EXPLAIN feature of SQL.\n",
    "\n",
    "You should be able to find two `FindEntity`s and a `FindConnection`."
   ]
  },
  {
   "cell_type": "code",
   "execution_count": null,
   "id": "face4ca0",
   "metadata": {},
   "outputs": [],
   "source": [
    "for row in run_query(\"\"\"\n",
    "    EXPLAIN\n",
    "    SELECT A.*, B.*, C.* FROM entity.\\\"CrawlRun\\\" AS A\n",
    "    INNER JOIN connection.\\\"crawlRunHasDocument\\\" AS B ON A._uniqueid = B._src\n",
    "    INNER JOIN entity.\\\"CrawlDocument\\\" AS C ON B._dst = C._uniqueid\n",
    "    LIMIT 5;\n",
    "    \"\"\")['QUERY PLAN'].tolist():\n",
    "    print(row)"
   ]
  },
  {
   "cell_type": "markdown",
   "id": "8bb87665",
   "metadata": {},
   "source": [
    "## Find some images\n",
    "\n",
    "In addition to being a graph database, ApertureDB is also a multi-modal object store.\n",
    "This means that objects can have associated blobs, and ApertureDB can perform various operations on, say, images.\n",
    "\n",
    "For objects that have an associated blob, such as images, we can fetch those blobs as part of the SQL query.\n",
    "The blobs end up in a special field, here `_image` of type `BYTEA`.\n",
    "\n",
    "It can be expensive to fetch blob data, and so ApertureDB never does so by default, only when [the `blobs` parameter](https://docs.aperturedata.io/query_language/Reference/shared_command_parameters/blobs) is set.\n",
    "To ensure that blobs are not returned casually when the user asks for `SELECT *`, a special column `_blobs` must be set to ask for blobs.\n",
    "\n",
    "Another special column here is `_as_format`, which lets you pick the format of the image blobs."
   ]
  },
  {
   "cell_type": "code",
   "execution_count": null,
   "id": "640ef954",
   "metadata": {},
   "outputs": [],
   "source": [
    "image_results = run_query(\"\"\"\n",
    "SELECT * FROM system.\"Image\" \n",
    "WHERE _blobs\n",
    "AND _as_format = 'jpg'\n",
    "LIMIT 5\n",
    "\"\"\")\n",
    "display(image_results)\n",
    "blobs = image_results['_image'].tolist()\n",
    "nh.display(blobs)"
   ]
  },
  {
   "cell_type": "markdown",
   "id": "33efc67d",
   "metadata": {},
   "source": [
    "## Image Operations\n",
    "\n",
    "Another special column here is `_operations`. In combination with SQL functions we have defined, we can generate a pipeline of [operations](https://docs.aperturedata.io/query_language/Reference/shared_command_parameters/operations) that mutate the blob.\n",
    "\n",
    "Finally, we can extract the actual blobs and display them. The transformations have made them pretty unrecognizable."
   ]
  },
  {
   "cell_type": "code",
   "execution_count": null,
   "id": "c1fbdc3d",
   "metadata": {},
   "outputs": [],
   "source": [
    "image_results = run_query(\"\"\"\n",
    "SELECT * FROM system.\"Image\" \n",
    "WHERE _blobs\n",
    "AND _operations = OPERATIONS(\n",
    "\tTHRESHOLD(64), \n",
    "\tCROP(x:=10, y:=10, width:=200, height:=200),\n",
    "\tFLIP(+1),\n",
    "\tROTATE(angle:=90),\n",
    "\tRESIZE(width:=50))\n",
    "AND _as_format = 'jpg'\n",
    "LIMIT 5\n",
    "\"\"\")\n",
    "display(image_results)\n",
    "blobs = image_results['_image'].tolist()\n",
    "nh.display(blobs)"
   ]
  },
  {
   "cell_type": "markdown",
   "id": "f74fd4e7",
   "metadata": {},
   "source": [
    "## Under the covers\n",
    "\n",
    "That was a complicated SQL query.\n",
    "What did that get transformed into in ApertureDB?\n",
    "It turn out that the transformation is pretty direct.\n",
    "\n",
    "You'll see the `blobs`, `as_format`, and `operations` parameters appearing in the `FindImage` command body."
   ]
  },
  {
   "cell_type": "code",
   "execution_count": null,
   "id": "6ee4c517",
   "metadata": {},
   "outputs": [],
   "source": [
    "for row in run_query(\"\"\"\n",
    "    EXPLAIN\n",
    "    SELECT * FROM system.\"Image\" \n",
    "    WHERE _blobs\n",
    "    AND _operations = OPERATIONS(\n",
    "        THRESHOLD(64), \n",
    "        CROP(x:=10, y:=10, width:=200, height:=200),\n",
    "        FLIP(+1),\n",
    "        ROTATE(angle:=90),\n",
    "        RESIZE(width:=50))\n",
    "    AND _as_format = 'jpg'\n",
    "    LIMIT 5\n",
    "    \"\"\")['QUERY PLAN'].tolist():\n",
    "    print(row)"
   ]
  },
  {
   "cell_type": "markdown",
   "id": "f865a18a",
   "metadata": {},
   "source": [
    "## Similarity search\n",
    "\n",
    "In addition to being a graph database and an object store, ApertureDB is also a vector store.\n",
    "We're going use this to find documents that are similar to an input text.\n",
    "\n",
    "This example assumes that you have already run the \"Website Chatbot\" workflow."
   ]
  },
  {
   "cell_type": "code",
   "execution_count": null,
   "id": "9abee45f",
   "metadata": {},
   "outputs": [],
   "source": [
    "text = \"find entity\"  # query text\n",
    "similarity_results = run_query(f\"\"\"\n",
    "SELECT * FROM descriptor.\"crawl-to-rag\"\n",
    "WHERE _find_similar = FIND_SIMILAR(\n",
    "    text := {text!r},\n",
    "    k := 10)\n",
    "LIMIT 10\n",
    "\"\"\")\n",
    "display(similarity_results)\n"
   ]
  },
  {
   "cell_type": "markdown",
   "id": "16fea934",
   "metadata": {},
   "source": [
    "## Under the covers\n",
    "\n",
    "This query is slightly different because the wrapper is performing the embedding for us."
   ]
  },
  {
   "cell_type": "code",
   "execution_count": null,
   "id": "5bdcc0a4",
   "metadata": {},
   "outputs": [],
   "source": [
    "for row in run_query(f\"\"\"\n",
    "    EXPLAIN VERBOSE\n",
    "    SELECT * FROM descriptor.\"crawl-to-rag\"\n",
    "    WHERE _find_similar = FIND_SIMILAR(\n",
    "        text := {text!r},\n",
    "        k := 10)\n",
    "    LIMIT 10\n",
    "    \"\"\")['QUERY PLAN'].tolist():\n",
    "    print(row)"
   ]
  },
  {
   "cell_type": "markdown",
   "id": "98d7cc97",
   "metadata": {},
   "source": [
    "An addition here (in `VERBOSE` mode) is that we have generated a query blob as can be seen in the last line.\n",
    "Recall that the underlying ApertureDB interface receives two inputs: A JSON query and an optional list of binary blobs.\n",
    "The query blobs are commonly used by commands like `AddImage` to upload data into ApertureDB.\n",
    "`FindDescriptor` is special among `Find` commands because it can also take a query blob, representing the embedding of the query text or image.\n",
    "\n",
    "Here the SQL wrapper knows the embedding model used to create this descriptor set, and is able to generate an embedding for the text supplied.\n",
    "It will also do the same for images using `FIND_SIMILAR(IMAGE:=...)`.\n",
    "It can also accept a plain vector as a JSON string."
   ]
  },
  {
   "cell_type": "markdown",
   "id": "2b615c17",
   "metadata": {},
   "source": [
    "## Conclusion\n",
    "\n",
    "Here we have seen that the SQL Server Workflow can provide read-only access to a broad range of ApertureDB features, including graph queries, object retrieval and manipulation, and vector search."
   ]
  },
  {
   "cell_type": "markdown",
   "id": "6c7e4b7f",
   "metadata": {},
   "source": []
  }
 ],
 "metadata": {
  "kernelspec": {
   "display_name": "Python 3",
   "language": "python",
   "name": "python3"
  },
  "language_info": {
   "codemirror_mode": {
    "name": "ipython",
    "version": 3
   },
   "file_extension": ".py",
   "mimetype": "text/x-python",
   "name": "python",
   "nbconvert_exporter": "python",
   "pygments_lexer": "ipython3",
   "version": "3.10.12"
  }
 },
 "nbformat": 4,
 "nbformat_minor": 5
}
