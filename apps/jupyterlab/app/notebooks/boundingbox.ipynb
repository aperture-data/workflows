{
 "cells": [
  {
   "cell_type": "markdown",
   "metadata": {},
   "source": [
    "# BoundingBox\n",
    "\n",
    "When you run the [ObjectDetection Workflow](https://docs.aperturedata.io/workflows/object_detection), bounding boxes are computed for each image stored in ApertureDB.\n",
    "You can use this notebook to query and visualize the results.\n",
    "For comprehensive details on bounding boxes, polygons, and other region-based features in ApertureDB, please refer to ApertureDB [Image documentation](https://docs.aperturedata.io/category/image-commands).\n",
    "For details on the Image interface in the ApertureDB python SDK, please refer to the [python SDK documentation](https://docs.aperturedata.io/python_sdk/object_wrappers/Images)."
   ]
  },
  {
   "cell_type": "code",
   "execution_count": null,
   "metadata": {},
   "outputs": [],
   "source": [
    "from aperturedb.CommonLibrary import create_connector, execute_query\n",
    "\n",
    "client = create_connector(key=\"<YOUR API KEY HERE>\")\n",
    "response, _ = client.query([{\"GetStatus\": {}}])\n",
    "print(response)\n"
   ]
  },
  {
   "cell_type": "markdown",
   "metadata": {},
   "source": [
    "## Display BoundingBoxes using the Python object mapper API\n",
    "\n",
    "To overlay bounding boxes on the image, pass show_bboxes=True as an argument for display function. You can also add constraints to filter the results based on your desired condition"
   ]
  },
  {
   "cell_type": "code",
   "execution_count": null,
   "metadata": {},
   "outputs": [],
   "source": [
    "from aperturedb.Images import Images\n",
    "from aperturedb.Constraints import Constraints\n",
    "\n",
    "display_limit = 5\n",
    "imgs  = Images(client, batch_size=display_limit)\n",
    "const = Constraints()\n",
    "# const.equal(\"constraint param\", \"constraint value\")\n",
    "imgs.search(const)\n",
    "imgs.display(limit=display_limit, show_bboxes=True)"
   ]
  },
  {
   "cell_type": "markdown",
   "metadata": {},
   "source": [
    "## Find Images using Labels"
   ]
  },
  {
   "cell_type": "code",
   "execution_count": null,
   "metadata": {},
   "outputs": [],
   "source": [
    "query = [{\n",
    "        \"FindBoundingBox\": {\n",
    "            \"_ref\": 1,\n",
    "            \"with_label\": \"chair\",\n",
    "            \"labels\": True,\n",
    "            \"coordinates\": True\n",
    "        }\n",
    "    },\n",
    "    {\n",
    "        \"FindImage\": {\n",
    "            \"blobs\": True,\n",
    "            \"is_connected_to\": {\n",
    "                \"ref\": 1\n",
    "            },\n",
    "            \"results\": {\n",
    "                \"limit\": display_limit,\n",
    "                \"all_properties\": True\n",
    "            }\n",
    "        }      \n",
    "    }]\n",
    "\n",
    "result, response, blobs = execute_query(client, query)\n",
    "# print(response[1])\n",
    "if result == 0:\n",
    "    imgs = Images(client, batch_size= display_limit, response=response[1][\"FindImage\"][\"entities\"])\n",
    "    imgs.display( show_bboxes= True)\n"
   ]
  },
  {
   "cell_type": "markdown",
   "metadata": {},
   "source": [
    "## Crop Bounding Boxes"
   ]
  },
  {
   "cell_type": "code",
   "execution_count": null,
   "metadata": {},
   "outputs": [],
   "source": [
    "from aperturedb.NotebookHelpers import display as display_images\n",
    "\n",
    "query = [{\n",
    "    \"FindBoundingBox\": {\n",
    "        \"blobs\": True,\n",
    "        \"with_label\": \"person\",\n",
    "        \"results\": {\n",
    "            \"all_properties\": True,\n",
    "        },\n",
    "        \"limit\": 5\n",
    "    }}]\n",
    "\n",
    "result, response, blobs = execute_query(client, query)\n",
    "# print(response)\n",
    "if result == 0:\n",
    "    # display(len(blobs))\n",
    "    display_images(blobs)"
   ]
  }
 ],
 "metadata": {
  "kernelspec": {
   "display_name": "Python 3 (ipykernel)",
   "language": "python",
   "name": "python3"
  },
  "language_info": {
   "codemirror_mode": {
    "name": "ipython",
    "version": 3
   },
   "file_extension": ".py",
   "mimetype": "text/x-python",
   "name": "python",
   "nbconvert_exporter": "python",
   "pygments_lexer": "ipython3",
   "version": "3.10.12"
  }
 },
 "nbformat": 4,
 "nbformat_minor": 4
}
