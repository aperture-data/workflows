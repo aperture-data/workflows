{
 "cells": [
  {
   "cell_type": "markdown",
   "id": "433b2fa5",
   "metadata": {},
   "source": [
    "# Bounding Box\n",
    "When you run the [ObjectDetection Workflow](https://docs.aperturedata.io/workflows/object_detection), bounding boxes are computed for each image stored in ApertureDB. You can use this notebook to query and visualize the results. For comprehensive details on bounding boxes, polygons, and other region-based features in ApertureDB, please refer to [ApertureDB Image documentation](https://docs.aperturedata.io/category/image-commands). For details on the Image interface in the ApertureDB python SDK, please refer to the [python SDK documentation](https://docs.aperturedata.io/python_sdk/object_wrappers/Images)."
   ]
  },
  {
   "cell_type": "code",
   "execution_count": null,
   "id": "3384ed4d",
   "metadata": {},
   "outputs": [],
   "source": [
    "from aperturedb.CommonLibrary import create_connector, execute_query\n",
    "\n",
    "client = create_connector(key=\"<YOUR API KEY HERE>\")\n",
    "response, _ = client.query([{\"GetStatus\": {}}])\n",
    "print(response)"
   ]
  },
  {
   "cell_type": "markdown",
   "id": "aac30cda",
   "metadata": {
    "vscode": {
     "languageId": "plaintext"
    }
   },
   "source": [
    "## Display BoundingBoxes using the Python object mapper API"
   ]
  },
  {
   "cell_type": "markdown",
   "id": "b32042d1",
   "metadata": {},
   "source": [
    "To overlay bounding boxes on the image, pass show_bboxes=True as an argument for display function. You can also add constraints to filter the results based on your desired condition."
   ]
  },
  {
   "cell_type": "code",
   "execution_count": null,
   "id": "ffbe4bfe",
   "metadata": {},
   "outputs": [],
   "source": [
    "from aperturedb.Images import Images\n",
    "from aperturedb.Constraints import Constraints\n",
    "\n",
    "display_limit = 5\n",
    "imgs  = Images(client, batch_size=display_limit)\n",
    "const = Constraints()\n",
    "# const.equal(\"constraint param\", \"constraint value\")\n",
    "imgs.search(const)\n",
    "imgs.display(limit=display_limit, show_bboxes=True)"
   ]
  },
  {
   "cell_type": "markdown",
   "id": "65c38eaf",
   "metadata": {},
   "source": [
    "## Find Images using Labels"
   ]
  },
  {
   "cell_type": "code",
   "execution_count": null,
   "id": "b7c43976",
   "metadata": {},
   "outputs": [],
   "source": [
    "query = [{\n",
    "        \"FindBoundingBox\": {\n",
    "            \"_ref\": 1,\n",
    "            \"with_label\": \"chair\",\n",
    "            \"labels\": True,\n",
    "            \"coordinates\": True\n",
    "        }\n",
    "    },\n",
    "    {\n",
    "        \"FindImage\": {\n",
    "            \"blobs\": True,\n",
    "            \"is_connected_to\": {\n",
    "                \"ref\": 1\n",
    "            },\n",
    "            \"results\": {\n",
    "                \"limit\": display_limit,\n",
    "                \"all_properties\": True\n",
    "            }\n",
    "        }      \n",
    "    }]\n",
    "\n",
    "result, response, blobs = execute_query(client, query)\n",
    "# print(response[1])\n",
    "if result == 0:\n",
    "    imgs = Images(client, batch_size= display_limit, response=response[1][\"FindImage\"][\"entities\"])\n",
    "    imgs.display( show_bboxes= True)"
   ]
  },
  {
   "cell_type": "markdown",
   "id": "86afe281",
   "metadata": {},
   "source": [
    "## Crop Bounding Boxes"
   ]
  },
  {
   "cell_type": "code",
   "execution_count": null,
   "id": "826931b3",
   "metadata": {},
   "outputs": [],
   "source": [
    "from aperturedb.NotebookHelpers import display as display_images\n",
    "\n",
    "query = [{\n",
    "    \"FindBoundingBox\": {\n",
    "        \"blobs\": True,\n",
    "        \"with_label\": \"person\",\n",
    "        \"results\": {\n",
    "            \"all_properties\": True,\n",
    "        },\n",
    "        \"limit\": 5\n",
    "    }}]\n",
    "\n",
    "result, response, blobs = execute_query(client, query)\n",
    "# print(response)\n",
    "if result == 0:\n",
    "    # display(len(blobs))\n",
    "    display_images(blobs)"
   ]
  }
 ],
 "metadata": {
  "language_info": {
   "name": "python"
  }
 },
 "nbformat": 4,
 "nbformat_minor": 5
}
