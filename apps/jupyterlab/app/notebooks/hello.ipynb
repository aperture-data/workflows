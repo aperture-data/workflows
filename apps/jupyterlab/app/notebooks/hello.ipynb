{
 "cells": [
  {
   "cell_type": "markdown",
   "metadata": {},
   "source": [
    "# Hello world\n",
    "\n",
    "This code validates that this jupyterlab can create a client to the Database.\n",
    "\n",
    "Please replace the values in angle brackets to the actual values."
   ]
  },
  {
   "cell_type": "code",
   "execution_count": null,
   "metadata": {},
   "outputs": [],
   "source": [
    "from aperturedb.CommonLibrary import create_connector\n",
    "\n",
    "# This will only work if you have apererturedb installed and configured.\n",
    "# The configuration is either created by setting an APERTUREDB_KEY environment variable,\n",
    "# or by creating a configuration using adb config.\n",
    "# See https://docs.aperturedata.io/Setup/client/adb for more information.\n",
    "client = create_connector(key=\"Get this key from the ApertureDB instance\")\n",
    "\n",
    "# If you wish to explicitly use the Connector class, you can do so like this:\n",
    "#from aperturedb import Connector as Connector\n",
    "#client = Connector.Connector(host=\"<DB_HOST>\", user=\"admin\", password=\"<YOUR_PASSWORD_HERE>\")\n",
    "\n",
    "response, _ = client.query([{\"GetStatus\": {}}])\n",
    "print(response)\n"
   ]
  }
 ],
 "metadata": {
  "kernelspec": {
   "display_name": "package",
   "language": "python",
   "name": "python3"
  },
  "language_info": {
   "name": "python",
   "version": "3.10.12"
  }
 },
 "nbformat": 4,
 "nbformat_minor": 2
}
