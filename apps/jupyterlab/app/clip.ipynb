{
 "cells": [
  {
   "cell_type": "markdown",
   "metadata": {},
   "source": [
    "# CLIP Embeddings and NLP prompt\n",
    "\n",
    "If you run the [Generate Embeddings Workflow](https://docs.aperturedata.io/workflows/embeddings_extraction), \n",
    "embeddings will be computed for each image on ApertureDB, using the \"ViT-B/16\" model from [OpenAI CLIP](https://openai.com/index/clip/).\n",
    "\n",
    "We can query using a natural language prompt:"
   ]
  },
  {
   "cell_type": "code",
   "execution_count": null,
   "metadata": {},
   "outputs": [],
   "source": [
    "from aperturedb import Connector as Connector\n",
    "from aperturedb import NotebookHelpers as nh\n",
    "\n",
    "client = Connector.Connector(host=\"<DB_HOST>\", user=\"admin\", password=\"<YOUR_PASSWORD_HERE>\")\n",
    "\n",
    "response, _ = client.query([{\"GetStatus\": {}}])\n",
    "client.print_last_response()"
   ]
  },
  {
   "cell_type": "code",
   "execution_count": null,
   "metadata": {},
   "outputs": [],
   "source": [
    "import clip\n",
    "\n",
    "model, preprocess = clip.load(\"ViT-B/16\", device=\"cpu\")\n",
    "\n",
    "# Natural language prompt\n",
    "prompt = \"a photo of a group of more than 2 people\"\n",
    "\n",
    "search_tokens = clip.tokenize([prompt]).to(\"cpu\")\n",
    "search_embeddings = model.encode_text(search_tokens)\n",
    "\n",
    "blobs = search_embeddings[0].detach().numpy().tobytes()\n",
    "\n",
    "query = [{\n",
    "    \"FindDescriptor\": {\n",
    "        \"_ref\": 1,\n",
    "        \"k_neighbors\": 10,\n",
    "        \"set\": \"wf_embeddings_clip\",\n",
    "    }\n",
    "}, {\n",
    "    \"FindImage\": {\n",
    "        \"_ref\": 2,\n",
    "        \"blobs\": True,\n",
    "        \"is_connected_to\": {\n",
    "            \"ref\": 1\n",
    "        },\n",
    "        \"results\": {\n",
    "            \"limit\": 10\n",
    "        }\n",
    "    }\n",
    "}]\n",
    "\n",
    "r, blobs = client.query(query, [blobs])\n",
    "client.print_last_response()\n",
    "\n",
    "print(len(blobs))\n",
    "nh.display(blobs)"
   ]
  },
  {
   "cell_type": "code",
   "execution_count": null,
   "metadata": {},
   "outputs": [],
   "source": []
  },
  {
   "cell_type": "code",
   "execution_count": null,
   "metadata": {},
   "outputs": [],
   "source": []
  }
 ],
 "metadata": {
  "kernelspec": {
   "display_name": "Python 3 (ipykernel)",
   "language": "python",
   "name": "python3"
  },
  "language_info": {
   "codemirror_mode": {
    "name": "ipython",
    "version": 3
   },
   "file_extension": ".py",
   "mimetype": "text/x-python",
   "name": "python",
   "nbconvert_exporter": "python",
   "pygments_lexer": "ipython3",
   "version": "3.10.12"
  }
 },
 "nbformat": 4,
 "nbformat_minor": 4
}
